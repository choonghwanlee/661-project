{
 "cells": [
  {
   "cell_type": "code",
   "execution_count": null,
   "id": "318ec418-350d-497a-88eb-5082c9b7e293",
   "metadata": {},
   "outputs": [],
   "source": [
    "from generate_frames import *\n",
    "# Path to the videos folder\n",
    "videos_folder = \"./videos\"\n",
    "\n",
    "# List all files in the videos folder\n",
    "video_files = [f for f in os.listdir(videos_folder) if os.path.isfile(os.path.join(videos_folder, f))]\n",
    "# Iterate through each video file\n",
    "for video_file in video_files:\n",
    "    # Construct the full path to the video file\n",
    "    video_path = os.path.join(videos_folder, video_file)\n",
    "    \n",
    "    # Extract the file name without extension\n",
    "    video_name = os.path.splitext(video_file)[0]\n",
    "    \n",
    "    # Call the extract_frames function for each video\n",
    "    extract_frames(video_path, video_name)\n",
    "\n",
    "print(\"Frames extraction completed.\")"
   ]
  }
 ],
 "metadata": {
  "kernelspec": {
   "display_name": "Python 3 (ipykernel)",
   "language": "python",
   "name": "python3"
  },
  "language_info": {
   "codemirror_mode": {
    "name": "ipython",
    "version": 3
   },
   "file_extension": ".py",
   "mimetype": "text/x-python",
   "name": "python",
   "nbconvert_exporter": "python",
   "pygments_lexer": "ipython3",
   "version": "3.10.2"
  }
 },
 "nbformat": 4,
 "nbformat_minor": 5
}
